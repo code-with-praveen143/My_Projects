{
 "cells": [
  {
   "cell_type": "markdown",
   "metadata": {
    "id": "LnPbntVRnfvV"
   },
   "source": [
    "Importing the Dependencies"
   ]
  },
  {
   "cell_type": "code",
   "execution_count": null,
   "metadata": {
    "executionInfo": {
     "elapsed": 1642,
     "status": "ok",
     "timestamp": 1674184354335,
     "user": {
      "displayName": "Praveen Kumar Talari",
      "userId": "17346812513864682740"
     },
     "user_tz": -330
    },
    "id": "-71UtHzNVWjB"
   },
   "outputs": [],
   "source": [
    "import numpy as np\n",
    "import pandas as pd\n",
    "from sklearn.preprocessing import StandardScaler\n",
    "from sklearn.model_selection import train_test_split\n",
    "from sklearn import svm\n",
    "from sklearn.metrics import accuracy_score"
   ]
  },
  {
   "cell_type": "code",
   "execution_count": null,
   "metadata": {},
   "outputs": [],
   "source": [
    "import sklearn\n"
   ]
  },
  {
   "cell_type": "markdown",
   "metadata": {
    "id": "bmfOfG8joBBy"
   },
   "source": [
    "Data Collection and Analysis\n",
    "\n",
    "PIMA Diabetes Dataset"
   ]
  },
  {
   "cell_type": "code",
   "execution_count": null,
   "metadata": {
    "executionInfo": {
     "elapsed": 637,
     "status": "ok",
     "timestamp": 1674184366420,
     "user": {
      "displayName": "Praveen Kumar Talari",
      "userId": "17346812513864682740"
     },
     "user_tz": -330
    },
    "id": "Xpw6Mj_pn_TL"
   },
   "outputs": [],
   "source": [
    "# loading the diabetes dataset to a pandas DataFrame\n",
    "diabetes_dataset = pd.read_csv('E:\\\\Datasets\\\\diabetes.csv') "
   ]
  },
  {
   "cell_type": "code",
   "execution_count": null,
   "metadata": {
    "colab": {
     "base_uri": "https://localhost:8080/",
     "height": 206
    },
    "executionInfo": {
     "elapsed": 15,
     "status": "ok",
     "timestamp": 1674184377285,
     "user": {
      "displayName": "Praveen Kumar Talari",
      "userId": "17346812513864682740"
     },
     "user_tz": -330
    },
    "id": "-tjO09ncovoh",
    "outputId": "4c1b3bc4-92e6-46fb-b725-0b4186602612"
   },
   "outputs": [],
   "source": [
    "# printing the first 5 rows of the dataset\n",
    "diabetes_dataset.head()"
   ]
  },
  {
   "cell_type": "code",
   "execution_count": null,
   "metadata": {
    "colab": {
     "base_uri": "https://localhost:8080/"
    },
    "executionInfo": {
     "elapsed": 12,
     "status": "ok",
     "timestamp": 1674184381620,
     "user": {
      "displayName": "Praveen Kumar Talari",
      "userId": "17346812513864682740"
     },
     "user_tz": -330
    },
    "id": "lynParo6pEMB",
    "outputId": "7401d25e-3041-4e97-aa22-e9fee6b9749d"
   },
   "outputs": [],
   "source": [
    "# number of rows and Columns in this dataset\n",
    "diabetes_dataset.shape"
   ]
  },
  {
   "cell_type": "code",
   "execution_count": null,
   "metadata": {
    "colab": {
     "base_uri": "https://localhost:8080/",
     "height": 300
    },
    "executionInfo": {
     "elapsed": 15,
     "status": "ok",
     "timestamp": 1674184382639,
     "user": {
      "displayName": "Praveen Kumar Talari",
      "userId": "17346812513864682740"
     },
     "user_tz": -330
    },
    "id": "3NDJOlrEpmoL",
    "outputId": "5e11a550-d309-456d-f86b-7032b12d24e8"
   },
   "outputs": [],
   "source": [
    "# getting the statistical measures of the data\n",
    "diabetes_dataset.describe()"
   ]
  },
  {
   "cell_type": "code",
   "execution_count": null,
   "metadata": {
    "colab": {
     "base_uri": "https://localhost:8080/"
    },
    "executionInfo": {
     "elapsed": 6,
     "status": "ok",
     "timestamp": 1674184387959,
     "user": {
      "displayName": "Praveen Kumar Talari",
      "userId": "17346812513864682740"
     },
     "user_tz": -330
    },
    "id": "LrpHzaGpp5dQ",
    "outputId": "26c35d81-9243-4c70-cd78-0c3291607077"
   },
   "outputs": [],
   "source": [
    "diabetes_dataset['Outcome'].value_counts()"
   ]
  },
  {
   "cell_type": "markdown",
   "metadata": {
    "id": "cB1qRaNcqeh5"
   },
   "source": [
    "0 --> Non-Diabetic\n",
    "\n",
    "1 --> Diabetic"
   ]
  },
  {
   "cell_type": "code",
   "execution_count": null,
   "metadata": {
    "colab": {
     "base_uri": "https://localhost:8080/",
     "height": 143
    },
    "executionInfo": {
     "elapsed": 17,
     "status": "ok",
     "timestamp": 1674184393264,
     "user": {
      "displayName": "Praveen Kumar Talari",
      "userId": "17346812513864682740"
     },
     "user_tz": -330
    },
    "id": "I6MWR0k_qSCK",
    "outputId": "0f37ba23-7674-4583-fa89-5a018e9d80ed"
   },
   "outputs": [],
   "source": [
    "diabetes_dataset.groupby('Outcome').mean()"
   ]
  },
  {
   "cell_type": "code",
   "execution_count": null,
   "metadata": {
    "executionInfo": {
     "elapsed": 16,
     "status": "ok",
     "timestamp": 1674184393266,
     "user": {
      "displayName": "Praveen Kumar Talari",
      "userId": "17346812513864682740"
     },
     "user_tz": -330
    },
    "id": "RoDW7l9mqqHZ"
   },
   "outputs": [],
   "source": [
    "# separating the data and labels\n",
    "X = diabetes_dataset.drop(columns = 'Outcome', axis=1)\n",
    "Y = diabetes_dataset['Outcome']"
   ]
  },
  {
   "cell_type": "code",
   "execution_count": null,
   "metadata": {
    "colab": {
     "base_uri": "https://localhost:8080/"
    },
    "executionInfo": {
     "elapsed": 7,
     "status": "ok",
     "timestamp": 1674184405828,
     "user": {
      "displayName": "Praveen Kumar Talari",
      "userId": "17346812513864682740"
     },
     "user_tz": -330
    },
    "id": "3eiRW9M9raMm",
    "outputId": "afa29dbf-161e-4a2d-93c1-b2e19c9560ab"
   },
   "outputs": [],
   "source": [
    "print(X)"
   ]
  },
  {
   "cell_type": "code",
   "execution_count": null,
   "metadata": {
    "colab": {
     "base_uri": "https://localhost:8080/"
    },
    "executionInfo": {
     "elapsed": 9,
     "status": "ok",
     "timestamp": 1674184409892,
     "user": {
      "displayName": "Praveen Kumar Talari",
      "userId": "17346812513864682740"
     },
     "user_tz": -330
    },
    "id": "AoxgTJAMrcCl",
    "outputId": "1dbac999-682e-4f02-94b6-b08fd4cd6726"
   },
   "outputs": [],
   "source": [
    "print(Y)"
   ]
  },
  {
   "cell_type": "markdown",
   "metadata": {
    "id": "umAbo_kqrlzI"
   },
   "source": [
    "Data Standardization"
   ]
  },
  {
   "cell_type": "code",
   "execution_count": null,
   "metadata": {
    "executionInfo": {
     "elapsed": 7,
     "status": "ok",
     "timestamp": 1674184411980,
     "user": {
      "displayName": "Praveen Kumar Talari",
      "userId": "17346812513864682740"
     },
     "user_tz": -330
    },
    "id": "njfM5X60rgnc"
   },
   "outputs": [],
   "source": [
    "scaler = StandardScaler()"
   ]
  },
  {
   "cell_type": "code",
   "execution_count": null,
   "metadata": {
    "colab": {
     "base_uri": "https://localhost:8080/"
    },
    "executionInfo": {
     "elapsed": 12,
     "status": "ok",
     "timestamp": 1674184412716,
     "user": {
      "displayName": "Praveen Kumar Talari",
      "userId": "17346812513864682740"
     },
     "user_tz": -330
    },
    "id": "g0ai5ARbr53p",
    "outputId": "48cc2d41-4dde-4426-abad-442662182c30"
   },
   "outputs": [],
   "source": [
    "scaler.fit(X)"
   ]
  },
  {
   "cell_type": "code",
   "execution_count": null,
   "metadata": {
    "executionInfo": {
     "elapsed": 11,
     "status": "ok",
     "timestamp": 1674184412717,
     "user": {
      "displayName": "Praveen Kumar Talari",
      "userId": "17346812513864682740"
     },
     "user_tz": -330
    },
    "id": "FHxNwPuZr-kD"
   },
   "outputs": [],
   "source": [
    "standardized_data = scaler.transform(X)"
   ]
  },
  {
   "cell_type": "code",
   "execution_count": null,
   "metadata": {
    "colab": {
     "base_uri": "https://localhost:8080/"
    },
    "executionInfo": {
     "elapsed": 791,
     "status": "ok",
     "timestamp": 1674184415028,
     "user": {
      "displayName": "Praveen Kumar Talari",
      "userId": "17346812513864682740"
     },
     "user_tz": -330
    },
    "id": "fjMwZ5x6sPUJ",
    "outputId": "924a5324-10a4-4e6d-9f84-f88736cdf1e4"
   },
   "outputs": [],
   "source": [
    "print(standardized_data)"
   ]
  },
  {
   "cell_type": "code",
   "execution_count": null,
   "metadata": {
    "executionInfo": {
     "elapsed": 16,
     "status": "ok",
     "timestamp": 1674184415029,
     "user": {
      "displayName": "Praveen Kumar Talari",
      "userId": "17346812513864682740"
     },
     "user_tz": -330
    },
    "id": "ZxWSl4SGsRjE"
   },
   "outputs": [],
   "source": [
    "X = standardized_data\n",
    "Y = diabetes_dataset['Outcome']"
   ]
  },
  {
   "cell_type": "code",
   "execution_count": null,
   "metadata": {
    "colab": {
     "base_uri": "https://localhost:8080/"
    },
    "executionInfo": {
     "elapsed": 16,
     "status": "ok",
     "timestamp": 1674184415030,
     "user": {
      "displayName": "Praveen Kumar Talari",
      "userId": "17346812513864682740"
     },
     "user_tz": -330
    },
    "id": "lhJF_7QjsjmP",
    "outputId": "63e18d57-afc8-41b0-bdc8-2c6796ed1383"
   },
   "outputs": [],
   "source": [
    "print(X)\n",
    "print(Y)"
   ]
  },
  {
   "cell_type": "markdown",
   "metadata": {
    "id": "gHciEFkxsoQP"
   },
   "source": [
    "Train Test Split"
   ]
  },
  {
   "cell_type": "code",
   "execution_count": null,
   "metadata": {
    "executionInfo": {
     "elapsed": 12,
     "status": "ok",
     "timestamp": 1674184416169,
     "user": {
      "displayName": "Praveen Kumar Talari",
      "userId": "17346812513864682740"
     },
     "user_tz": -330
    },
    "id": "AEfKGj_yslvD"
   },
   "outputs": [],
   "source": [
    "X_train, X_test, Y_train, Y_test = train_test_split(X,Y, test_size = 0.2, stratify=Y, random_state=2)"
   ]
  },
  {
   "cell_type": "code",
   "execution_count": null,
   "metadata": {
    "colab": {
     "base_uri": "https://localhost:8080/"
    },
    "executionInfo": {
     "elapsed": 12,
     "status": "ok",
     "timestamp": 1674184416170,
     "user": {
      "displayName": "Praveen Kumar Talari",
      "userId": "17346812513864682740"
     },
     "user_tz": -330
    },
    "id": "DR05T-o0t3FQ",
    "outputId": "c4fc334c-94d9-4f39-bbc5-448d40711fff"
   },
   "outputs": [],
   "source": [
    "print(X.shape, X_train.shape, X_test.shape)"
   ]
  },
  {
   "cell_type": "markdown",
   "metadata": {
    "id": "ElJ3tkOtuC_n"
   },
   "source": [
    "Training the Model"
   ]
  },
  {
   "cell_type": "code",
   "execution_count": null,
   "metadata": {
    "executionInfo": {
     "elapsed": 14,
     "status": "ok",
     "timestamp": 1674184416887,
     "user": {
      "displayName": "Praveen Kumar Talari",
      "userId": "17346812513864682740"
     },
     "user_tz": -330
    },
    "id": "5szLWHlNt9xc"
   },
   "outputs": [],
   "source": [
    "classifier = svm.SVC(kernel='linear')"
   ]
  },
  {
   "cell_type": "code",
   "execution_count": null,
   "metadata": {
    "colab": {
     "base_uri": "https://localhost:8080/"
    },
    "executionInfo": {
     "elapsed": 14,
     "status": "ok",
     "timestamp": 1674184416888,
     "user": {
      "displayName": "Praveen Kumar Talari",
      "userId": "17346812513864682740"
     },
     "user_tz": -330
    },
    "id": "ncJWY_7suPAb",
    "outputId": "4dc80615-0b0f-4522-8e31-e4c885532b0f"
   },
   "outputs": [],
   "source": [
    "#training the support vector Machine Classifier\n",
    "classifier.fit(X_train, Y_train)"
   ]
  },
  {
   "cell_type": "markdown",
   "metadata": {
    "id": "UV4-CAfquiyP"
   },
   "source": [
    "Model Evaluation"
   ]
  },
  {
   "cell_type": "markdown",
   "metadata": {
    "id": "yhAjGPJWunXa"
   },
   "source": [
    "Accuracy Score"
   ]
  },
  {
   "cell_type": "code",
   "execution_count": null,
   "metadata": {
    "executionInfo": {
     "elapsed": 14,
     "status": "ok",
     "timestamp": 1674184417642,
     "user": {
      "displayName": "Praveen Kumar Talari",
      "userId": "17346812513864682740"
     },
     "user_tz": -330
    },
    "id": "fJLEPQK7ueXp"
   },
   "outputs": [],
   "source": [
    "# accuracy score on the training data\n",
    "X_train_prediction = classifier.predict(X_train)\n",
    "training_data_accuracy = accuracy_score(X_train_prediction, Y_train)"
   ]
  },
  {
   "cell_type": "code",
   "execution_count": null,
   "metadata": {
    "colab": {
     "base_uri": "https://localhost:8080/"
    },
    "executionInfo": {
     "elapsed": 12,
     "status": "ok",
     "timestamp": 1674184417642,
     "user": {
      "displayName": "Praveen Kumar Talari",
      "userId": "17346812513864682740"
     },
     "user_tz": -330
    },
    "id": "mmJ22qhVvNwj",
    "outputId": "afe3296c-8aa5-45db-d62d-5483fae264d3"
   },
   "outputs": [],
   "source": [
    "print('Accuracy score of the training data : ', training_data_accuracy)"
   ]
  },
  {
   "cell_type": "code",
   "execution_count": null,
   "metadata": {
    "executionInfo": {
     "elapsed": 11,
     "status": "ok",
     "timestamp": 1674184417643,
     "user": {
      "displayName": "Praveen Kumar Talari",
      "userId": "17346812513864682740"
     },
     "user_tz": -330
    },
    "id": "G2CICFMEvcCl"
   },
   "outputs": [],
   "source": [
    "# accuracy score on the test data\n",
    "X_test_prediction = classifier.predict(X_test)\n",
    "test_data_accuracy = accuracy_score(X_test_prediction, Y_test)"
   ]
  },
  {
   "cell_type": "code",
   "execution_count": null,
   "metadata": {
    "colab": {
     "base_uri": "https://localhost:8080/"
    },
    "executionInfo": {
     "elapsed": 11,
     "status": "ok",
     "timestamp": 1674184417643,
     "user": {
      "displayName": "Praveen Kumar Talari",
      "userId": "17346812513864682740"
     },
     "user_tz": -330
    },
    "id": "i2GcW_t_vz7C",
    "outputId": "7ed23c6e-5e22-4cf6-b21a-b76d00539327"
   },
   "outputs": [],
   "source": [
    "print('Accuracy score of the test data : ', test_data_accuracy)"
   ]
  },
  {
   "cell_type": "markdown",
   "metadata": {
    "id": "gq8ZX1xpwPF5"
   },
   "source": [
    "Making a Predictive System"
   ]
  },
  {
   "cell_type": "code",
   "execution_count": null,
   "metadata": {
    "colab": {
     "base_uri": "https://localhost:8080/"
    },
    "executionInfo": {
     "elapsed": 9,
     "status": "ok",
     "timestamp": 1674184417644,
     "user": {
      "displayName": "Praveen Kumar Talari",
      "userId": "17346812513864682740"
     },
     "user_tz": -330
    },
    "id": "U-ULRe4yv5tH",
    "outputId": "b1502731-2c06-4985-a7d2-b56a6e40cfed"
   },
   "outputs": [],
   "source": [
    "input_data = (5,166,72,19,175,25.8,0.587,51)\n",
    "\n",
    "# changing the input_data to numpy array\n",
    "input_data_as_numpy_array = np.asarray(input_data)\n",
    "\n",
    "# reshape the array as we are predicting for one instance\n",
    "input_data_reshaped = input_data_as_numpy_array.reshape(1,-1)\n",
    "\n",
    "# standardize the input data\n",
    "std_data = scaler.transform(input_data_reshaped)\n",
    "print(std_data)\n",
    "\n",
    "prediction = classifier.predict(std_data)\n",
    "print(prediction)\n",
    "\n",
    "if (prediction[0] == 0):\n",
    "    print('The person is not diabetic')\n",
    "else:\n",
    "    print('The person is diabetic')"
   ]
  },
  {
   "cell_type": "code",
   "execution_count": null,
   "metadata": {
    "executionInfo": {
     "elapsed": 4,
     "status": "ok",
     "timestamp": 1674184434615,
     "user": {
      "displayName": "Praveen Kumar Talari",
      "userId": "17346812513864682740"
     },
     "user_tz": -330
    },
    "id": "Ex2A_pr4yCpm"
   },
   "outputs": [],
   "source": [
    "import pickle\n"
   ]
  },
  {
   "cell_type": "code",
   "execution_count": null,
   "metadata": {
    "colab": {
     "base_uri": "https://localhost:8080/"
    },
    "executionInfo": {
     "elapsed": 1033,
     "status": "ok",
     "timestamp": 1674184855899,
     "user": {
      "displayName": "Praveen Kumar Talari",
      "userId": "17346812513864682740"
     },
     "user_tz": -330
    },
    "id": "D4IjFgmmKxpW",
    "outputId": "1244dd83-bc60-459d-876a-aa36fea69366"
   },
   "outputs": [],
   "source": [
    "\n",
    "pickle_out=open(\"diabetes_prediction_model.pkl\",\"wb\")\n",
    "pickle.dump(classifier,pickle_out)\n",
    "pickle_out.close()\n",
    "print(pickle_out)"
   ]
  },
  {
   "cell_type": "code",
   "execution_count": null,
   "metadata": {
    "id": "dTy_e1OrLDGu"
   },
   "outputs": [],
   "source": []
  }
 ],
 "metadata": {
  "colab": {
   "provenance": [
    {
     "file_id": "1oxnhMTlomJ4HVhPuowpPFyMt1mwuOuQo",
     "timestamp": 1674148075726
    }
   ]
  },
  "kernelspec": {
   "display_name": "Python 3 (ipykernel)",
   "language": "python",
   "name": "python3"
  },
  "language_info": {
   "codemirror_mode": {
    "name": "ipython",
    "version": 3
   },
   "file_extension": ".py",
   "mimetype": "text/x-python",
   "name": "python",
   "nbconvert_exporter": "python",
   "pygments_lexer": "ipython3",
   "version": "3.9.12"
  }
 },
 "nbformat": 4,
 "nbformat_minor": 1
}
